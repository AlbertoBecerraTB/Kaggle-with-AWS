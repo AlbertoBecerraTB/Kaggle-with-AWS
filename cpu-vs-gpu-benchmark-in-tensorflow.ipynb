{
 "cells": [
  {
   "attachments": {},
   "cell_type": "markdown",
   "id": "e9989ddd",
   "metadata": {
    "papermill": {
     "duration": 0.017962,
     "end_time": "2021-08-13T14:15:27.836381",
     "exception": false,
     "start_time": "2021-08-13T14:15:27.818419",
     "status": "completed"
    },
    "tags": []
   },
   "source": [
    "# Benchmarking CPU vs GPU en TensorFlow"
   ]
  },
  {
   "attachments": {},
   "cell_type": "markdown",
   "id": "ca1dc264",
   "metadata": {},
   "source": [
    "En esta práctica vamos a comparar el rendimiento de la CPU y la GPU en TensorFlow. \n",
    "Para ello vamos a entrenar el mismo modelo de Deep Learning y vamos a medir el \n",
    "tiempo que tarda cada dispositivo en realizarlas.\n",
    "\n",
    "Los pasos que vamos a seguir son los siguientes:\n",
    "1. Importar las librerías necesarias\n",
    "2. Comprobar que TensorFlow es capaz de encontrar y usar la GPU\n",
    "3. Cargar el dataset [MNIST](https://en.wikipedia.org/wiki/MNIST_database)\n",
    "4. Definir la arquitectura de la red neuronal\n",
    "5. Entrenar el modelo para distintos batch_sizes en CPU y medir el tiempo\n",
    "6. Entrenar el modelo para distintos batch_sizes en GPU y medir el tiempo"
   ]
  },
  {
   "attachments": {},
   "cell_type": "markdown",
   "id": "0eff4685",
   "metadata": {},
   "source": [
    "## Importación de librerías"
   ]
  },
  {
   "attachments": {},
   "cell_type": "markdown",
   "id": "e986b5fd",
   "metadata": {},
   "source": [
    "Vamos a emplear el conocido framework de Deep Learning [TensorFlow](https://www.tensorflow.org/)."
   ]
  },
  {
   "cell_type": "code",
   "execution_count": 9,
   "id": "9c7f6b78",
   "metadata": {
    "execution": {
     "iopub.execute_input": "2021-08-13T14:15:27.881147Z",
     "iopub.status.busy": "2021-08-13T14:15:27.880627Z",
     "iopub.status.idle": "2021-08-13T14:15:32.186348Z",
     "shell.execute_reply": "2021-08-13T14:15:32.185630Z"
    },
    "papermill": {
     "duration": 4.333204,
     "end_time": "2021-08-13T14:15:32.186534",
     "exception": false,
     "start_time": "2021-08-13T14:15:27.853330",
     "status": "completed"
    },
    "tags": []
   },
   "outputs": [
    {
     "name": "stdout",
     "output_type": "stream",
     "text": [
      "2.12.0\n"
     ]
    }
   ],
   "source": [
    "import tensorflow as tf\n",
    "from tensorflow import keras\n",
    "print(tf.__version__)\n",
    "\n",
    "import numpy as np                                \n",
    "import matplotlib.pyplot as plt\n",
    "import tensorflow.keras as k\n",
    "# from tensorflow.examples.tutorials.mnist import input_data\n",
    "from tensorflow.keras.datasets import mnist\n",
    "from tensorflow.keras.models import Sequential\n",
    "from tensorflow.keras.layers import Dense, Dropout, Flatten\n",
    "from tensorflow.keras.layers import Conv2D, MaxPooling2D, BatchNormalization\n",
    "from tensorflow.keras.optimizers import SGD, Adam\n",
    "from tensorflow.keras.models import load_model\n",
    "from tensorflow.keras.utils import to_categorical\n",
    "from tensorflow.keras import backend as K\n",
    "import time"
   ]
  },
  {
   "cell_type": "code",
   "execution_count": 10,
   "id": "03daa6ef",
   "metadata": {
    "ExecuteTime": {
     "end_time": "2021-08-12T04:00:32.755448Z",
     "start_time": "2021-08-12T04:00:32.694760Z"
    },
    "execution": {
     "iopub.execute_input": "2021-08-13T14:15:32.372085Z",
     "iopub.status.busy": "2021-08-13T14:15:32.368394Z",
     "iopub.status.idle": "2021-08-13T14:15:32.377388Z",
     "shell.execute_reply": "2021-08-13T14:15:32.377750Z",
     "shell.execute_reply.started": "2021-08-13T13:53:54.348267Z"
    },
    "papermill": {
     "duration": 0.173185,
     "end_time": "2021-08-13T14:15:32.377913",
     "exception": false,
     "start_time": "2021-08-13T14:15:32.204728",
     "status": "completed"
    },
    "tags": []
   },
   "outputs": [
    {
     "data": {
      "text/plain": [
       "[PhysicalDevice(name='/physical_device:CPU:0', device_type='CPU')]"
      ]
     },
     "execution_count": 10,
     "metadata": {},
     "output_type": "execute_result"
    }
   ],
   "source": [
    "tf.config.experimental.list_physical_devices(device_type=None)"
   ]
  },
  {
   "attachments": {},
   "cell_type": "markdown",
   "id": "229594e0",
   "metadata": {
    "papermill": {
     "duration": 0.017569,
     "end_time": "2021-08-13T14:15:32.413760",
     "exception": false,
     "start_time": "2021-08-13T14:15:32.396191",
     "status": "completed"
    },
    "tags": []
   },
   "source": [
    "## Comprobación de la GPU"
   ]
  },
  {
   "attachments": {},
   "cell_type": "markdown",
   "id": "2d6d7639",
   "metadata": {
    "papermill": {
     "duration": 0.017351,
     "end_time": "2021-08-13T14:15:32.448676",
     "exception": false,
     "start_time": "2021-08-13T14:15:32.431325",
     "status": "completed"
    },
    "tags": []
   },
   "source": [
    "Vamos a asegurarnos de que nuestro sistema es capaz de encontrar la GPU y de que\n",
    "TensorFlow es capaz de usarla."
   ]
  },
  {
   "cell_type": "code",
   "execution_count": 11,
   "id": "f7974539",
   "metadata": {
    "execution": {
     "iopub.execute_input": "2021-08-13T14:15:32.487603Z",
     "iopub.status.busy": "2021-08-13T14:15:32.487115Z",
     "iopub.status.idle": "2021-08-13T14:15:33.149151Z",
     "shell.execute_reply": "2021-08-13T14:15:33.148149Z",
     "shell.execute_reply.started": "2021-08-13T13:53:54.363263Z"
    },
    "papermill": {
     "duration": 0.683087,
     "end_time": "2021-08-13T14:15:33.149289",
     "exception": false,
     "start_time": "2021-08-13T14:15:32.466202",
     "status": "completed"
    },
    "tags": []
   },
   "outputs": [
    {
     "name": "stderr",
     "output_type": "stream",
     "text": [
      "\"nvidia-smi\" no se reconoce como un comando interno o externo,\n",
      "programa o archivo por lotes ejecutable.\n"
     ]
    }
   ],
   "source": [
    "!nvidia-smi"
   ]
  },
  {
   "attachments": {},
   "cell_type": "markdown",
   "id": "c2d34f80",
   "metadata": {
    "papermill": {
     "duration": 0.018372,
     "end_time": "2021-08-13T14:15:33.186411",
     "exception": false,
     "start_time": "2021-08-13T14:15:33.168039",
     "status": "completed"
    },
    "tags": []
   },
   "source": [
    "En la siguiente celda se muestra información sobre la GPU que tenemos disponible.\n",
    "\n",
    "El output debe ser: \n",
    "\n",
    "**1 Physical GPUs, 1 Logical GPUs**"
   ]
  },
  {
   "cell_type": "code",
   "execution_count": 12,
   "id": "3572e576",
   "metadata": {
    "ExecuteTime": {
     "end_time": "2021-08-12T04:00:33.131826Z",
     "start_time": "2021-08-12T04:00:32.756412Z"
    },
    "execution": {
     "iopub.execute_input": "2021-08-13T14:15:34.732235Z",
     "iopub.status.busy": "2021-08-13T14:15:34.731528Z",
     "iopub.status.idle": "2021-08-13T14:15:34.737232Z",
     "shell.execute_reply": "2021-08-13T14:15:34.736495Z",
     "shell.execute_reply.started": "2021-08-13T13:53:55.123791Z"
    },
    "papermill": {
     "duration": 1.532285,
     "end_time": "2021-08-13T14:15:34.737358",
     "exception": false,
     "start_time": "2021-08-13T14:15:33.205073",
     "status": "completed"
    },
    "tags": []
   },
   "outputs": [],
   "source": [
    "gpus = tf.config.experimental.list_physical_devices('GPU')\n",
    "if gpus:\n",
    "  try:\n",
    "    # Currently, memory growth needs to be the same across GPUs\n",
    "    for gpu in gpus:\n",
    "      tf.config.experimental.set_memory_growth(gpu, True)\n",
    "    logical_gpus = tf.config.experimental.list_logical_devices('GPU')\n",
    "    print(len(gpus), \"Physical GPUs,\", len(logical_gpus), \"Logical GPUs\")\n",
    "  except RuntimeError as e:\n",
    "    # Memory growth must be set before GPUs have been initialized\n",
    "    print(e)"
   ]
  },
  {
   "attachments": {},
   "cell_type": "markdown",
   "id": "f4d34e11",
   "metadata": {
    "ExecuteTime": {
     "end_time": "2021-08-12T04:00:33.380682Z",
     "start_time": "2021-08-12T04:00:33.148072Z"
    },
    "execution": {
     "iopub.execute_input": "2021-08-13T14:15:34.826615Z",
     "iopub.status.busy": "2021-08-13T14:15:34.826129Z",
     "iopub.status.idle": "2021-08-13T14:15:34.829792Z",
     "shell.execute_reply": "2021-08-13T14:15:34.829395Z",
     "shell.execute_reply.started": "2021-08-13T13:53:55.151190Z"
    },
    "papermill": {
     "duration": 0.026776,
     "end_time": "2021-08-13T14:15:34.829911",
     "exception": false,
     "start_time": "2021-08-13T14:15:34.803135",
     "status": "completed"
    },
    "tags": []
   },
   "source": [
    "## Carga del dataset"
   ]
  },
  {
   "attachments": {},
   "cell_type": "markdown",
   "id": "780aa390",
   "metadata": {},
   "source": [
    "El MNIST dataset es un dataset de imágenes de dígitos escritos a mano. En tensorflow\n",
    "tenemos una función que nos permite cargarlo y dividirlo en los conjuntos de train y test."
   ]
  },
  {
   "cell_type": "code",
   "execution_count": 13,
   "id": "b3fd86a5",
   "metadata": {
    "ExecuteTime": {
     "end_time": "2021-08-12T04:00:33.894423Z",
     "start_time": "2021-08-12T04:00:33.381681Z"
    },
    "execution": {
     "iopub.execute_input": "2021-08-13T14:15:34.874207Z",
     "iopub.status.busy": "2021-08-13T14:15:34.872342Z",
     "iopub.status.idle": "2021-08-13T14:15:35.706452Z",
     "shell.execute_reply": "2021-08-13T14:15:35.705651Z",
     "shell.execute_reply.started": "2021-08-13T13:53:55.163937Z"
    },
    "papermill": {
     "duration": 0.858338,
     "end_time": "2021-08-13T14:15:35.706630",
     "exception": false,
     "start_time": "2021-08-13T14:15:34.848292",
     "status": "completed"
    },
    "tags": []
   },
   "outputs": [
    {
     "name": "stdout",
     "output_type": "stream",
     "text": [
      "counts of x_train : 60000, y_train : 60000, x_test : 10000, y_test : 10000\n"
     ]
    }
   ],
   "source": [
    "(x_train, y_train), (x_test, y_test) = mnist.load_data()\n",
    "img_rows, img_cols = 28,28\n",
    "x_train = x_train.reshape(x_train.shape[0], img_rows, img_cols, 1)\n",
    "x_test = x_test.reshape(x_test.shape[0], img_rows, img_cols, 1)\n",
    "input_shape = (img_rows, img_cols, 1)\n",
    "x_test=x_test.astype('float32')\n",
    "x_train=x_train.astype('float32')\n",
    "mean=np.mean(x_train)\n",
    "std=np.std(x_train)\n",
    "x_test = (x_test-mean)/std\n",
    "x_train = (x_train-mean)/std\n",
    "\n",
    "print(\"counts of x_train : {}, y_train : {}, x_test : {}, y_test : {}\".format(\n",
    "    len(x_train), len(y_train), len(x_test), len(y_test)))"
   ]
  },
  {
   "cell_type": "code",
   "execution_count": 14,
   "id": "0f09f46b",
   "metadata": {
    "ExecuteTime": {
     "end_time": "2021-08-12T04:00:33.909848Z",
     "start_time": "2021-08-12T04:00:33.895843Z"
    },
    "execution": {
     "iopub.execute_input": "2021-08-13T14:15:35.753069Z",
     "iopub.status.busy": "2021-08-13T14:15:35.751182Z",
     "iopub.status.idle": "2021-08-13T14:15:35.757102Z",
     "shell.execute_reply": "2021-08-13T14:15:35.756487Z",
     "shell.execute_reply.started": "2021-08-13T13:53:55.750052Z"
    },
    "papermill": {
     "duration": 0.030012,
     "end_time": "2021-08-13T14:15:35.757238",
     "exception": false,
     "start_time": "2021-08-13T14:15:35.727226",
     "status": "completed"
    },
    "tags": []
   },
   "outputs": [
    {
     "name": "stdout",
     "output_type": "stream",
     "text": [
      "counts of x_train : 60000, y_train : 60000, x_test : 10000, y_test : 10000\n"
     ]
    }
   ],
   "source": [
    "num_classes=10\n",
    "y_train = to_categorical(y_train, num_classes)\n",
    "y_test = to_categorical(y_test, num_classes)\n",
    "print(\"counts of x_train : {}, y_train : {}, x_test : {}, y_test : {}\".format(\n",
    "    len(x_train), len(y_train), len(x_test), len(y_test)))"
   ]
  },
  {
   "attachments": {},
   "cell_type": "markdown",
   "id": "4a6ddf24",
   "metadata": {},
   "source": [
    "## Definición de la arquitectura del modelo"
   ]
  },
  {
   "attachments": {},
   "cell_type": "markdown",
   "id": "94956d4c",
   "metadata": {},
   "source": [
    "En este caso, como se trata de un problema de clasificación de imágenes, vamos a\n",
    "definir una red neuronal convolucional.\n",
    "\n",
    "Constará de:\n",
    "- Una capa de entrada (las imágenes de 28x28 píxeles)\n",
    "- Dos capas convolucionales con 32 filtros de 3x3\n",
    "- Una capa de pooling de 2x2\n",
    "- Dos capas convolucionales con 64 filtros de 3x3\n",
    "- Una capa de pooling de 2x2\n",
    "- Una capa oculta\n",
    "- Una capa de salida de 10 neuronas (una por cada clase)"
   ]
  },
  {
   "cell_type": "code",
   "execution_count": 15,
   "id": "8a183792",
   "metadata": {},
   "outputs": [],
   "source": [
    "def get_model():\n",
    "    # don't change anything\n",
    "    num_filter=32\n",
    "    num_dense=512\n",
    "    drop_dense=0.7\n",
    "    ac='relu'\n",
    "    learningrate=0.01\n",
    "\n",
    "# with tf.device(\"/cpu:0\"):\n",
    "    model = Sequential()\n",
    "\n",
    "    model.add(Conv2D(num_filter, (3, 3), activation=ac, input_shape=(28, 28, 1),padding='same'))\n",
    "    model.add(BatchNormalization(axis=-1))\n",
    "    model.add(Conv2D(num_filter, (3, 3), activation=ac,padding='same'))\n",
    "    model.add(BatchNormalization(axis=-1))\n",
    "    model.add(MaxPooling2D(pool_size=(2, 2)))   # reduces to 14x14x32\n",
    "\n",
    "    model.add(Conv2D(2*num_filter, (3, 3), activation=ac,padding='same'))\n",
    "    model.add(BatchNormalization(axis=-1))\n",
    "    model.add(Conv2D(2*num_filter, (3, 3), activation=ac,padding='same'))\n",
    "    model.add(BatchNormalization(axis=-1))\n",
    "    model.add(MaxPooling2D(pool_size=(2, 2)))   # reduces to 7x7x64 = 3136 neurons\n",
    "\n",
    "    model.add(Flatten())                        \n",
    "    model.add(Dense(num_dense, activation=ac))\n",
    "    model.add(BatchNormalization())\n",
    "    model.add(Dropout(drop_dense))\n",
    "    model.add(Dense(10, activation='softmax'))\n",
    "\n",
    "    optimizer = tf.keras.optimizers.SGD()\n",
    "\n",
    "    model.compile(loss='categorical_crossentropy', metrics=['accuracy'],optimizer=optimizer)\n",
    "    return model"
   ]
  },
  {
   "attachments": {},
   "cell_type": "markdown",
   "id": "269ddfc6",
   "metadata": {
    "papermill": {
     "duration": 0.019973,
     "end_time": "2021-08-13T14:15:35.846208",
     "exception": false,
     "start_time": "2021-08-13T14:15:35.826235",
     "status": "completed"
    },
    "tags": []
   },
   "source": [
    "# Entrenamiento del modelo en CPU"
   ]
  },
  {
   "attachments": {},
   "cell_type": "markdown",
   "id": "c3ac756a",
   "metadata": {},
   "source": [
    "Empezamos entrenando el modelo en CPU. Vamos a medir el tiempo que tarda en entrenar\n",
    "y guardarlo en una lista para poder representarlo versus el batch_size."
   ]
  },
  {
   "cell_type": "code",
   "execution_count": 17,
   "id": "fde8223c",
   "metadata": {
    "ExecuteTime": {
     "end_time": "2021-08-12T04:12:20.855285Z",
     "start_time": "2021-08-12T04:00:34.018700Z"
    },
    "execution": {
     "iopub.execute_input": "2021-08-13T14:15:36.112782Z",
     "iopub.status.busy": "2021-08-13T14:15:36.112280Z",
     "iopub.status.idle": "2021-08-13T14:43:43.285970Z",
     "shell.execute_reply": "2021-08-13T14:43:43.285505Z",
     "shell.execute_reply.started": "2021-08-13T13:53:55.912728Z"
    },
    "papermill": {
     "duration": 1687.199034,
     "end_time": "2021-08-13T14:43:43.286105",
     "exception": false,
     "start_time": "2021-08-13T14:15:36.087071",
     "status": "completed"
    },
    "tags": []
   },
   "outputs": [
    {
     "name": "stdout",
     "output_type": "stream",
     "text": [
      "batch size 128\n",
      "299/469 [==================>...........] - ETA: 54s - loss: 0.3941 - accuracy: 0.8839"
     ]
    },
    {
     "ename": "KeyboardInterrupt",
     "evalue": "",
     "output_type": "error",
     "traceback": [
      "\u001b[1;31m---------------------------------------------------------------------------\u001b[0m",
      "\u001b[1;31mKeyboardInterrupt\u001b[0m                         Traceback (most recent call last)",
      "Cell \u001b[1;32mIn[17], line 9\u001b[0m\n\u001b[0;32m      7\u001b[0m model \u001b[39m=\u001b[39m get_model()\n\u001b[0;32m      8\u001b[0m t1 \u001b[39m=\u001b[39m time\u001b[39m.\u001b[39mtime()\n\u001b[1;32m----> 9\u001b[0m model\u001b[39m.\u001b[39;49mfit(x_train, y_train, batch_size\u001b[39m=\u001b[39;49mk, epochs\u001b[39m=\u001b[39;49m\u001b[39m1\u001b[39;49m, validation_data\u001b[39m=\u001b[39;49m(x_test, y_test))\n\u001b[0;32m     10\u001b[0m t2 \u001b[39m=\u001b[39m time\u001b[39m.\u001b[39mtime()\n\u001b[0;32m     11\u001b[0m cpu_list\u001b[39m.\u001b[39mappend(\u001b[39mint\u001b[39m(t2\u001b[39m-\u001b[39mt1))\n",
      "File \u001b[1;32mc:\\Users\\alber\\Documents\\GitHub\\TheBridge\\Kaggle-with-AWS\\.venv\\lib\\site-packages\\keras\\utils\\traceback_utils.py:65\u001b[0m, in \u001b[0;36mfilter_traceback.<locals>.error_handler\u001b[1;34m(*args, **kwargs)\u001b[0m\n\u001b[0;32m     63\u001b[0m filtered_tb \u001b[39m=\u001b[39m \u001b[39mNone\u001b[39;00m\n\u001b[0;32m     64\u001b[0m \u001b[39mtry\u001b[39;00m:\n\u001b[1;32m---> 65\u001b[0m     \u001b[39mreturn\u001b[39;00m fn(\u001b[39m*\u001b[39margs, \u001b[39m*\u001b[39m\u001b[39m*\u001b[39mkwargs)\n\u001b[0;32m     66\u001b[0m \u001b[39mexcept\u001b[39;00m \u001b[39mException\u001b[39;00m \u001b[39mas\u001b[39;00m e:\n\u001b[0;32m     67\u001b[0m     filtered_tb \u001b[39m=\u001b[39m _process_traceback_frames(e\u001b[39m.\u001b[39m__traceback__)\n",
      "File \u001b[1;32mc:\\Users\\alber\\Documents\\GitHub\\TheBridge\\Kaggle-with-AWS\\.venv\\lib\\site-packages\\keras\\engine\\training.py:1685\u001b[0m, in \u001b[0;36mModel.fit\u001b[1;34m(self, x, y, batch_size, epochs, verbose, callbacks, validation_split, validation_data, shuffle, class_weight, sample_weight, initial_epoch, steps_per_epoch, validation_steps, validation_batch_size, validation_freq, max_queue_size, workers, use_multiprocessing)\u001b[0m\n\u001b[0;32m   1677\u001b[0m \u001b[39mwith\u001b[39;00m tf\u001b[39m.\u001b[39mprofiler\u001b[39m.\u001b[39mexperimental\u001b[39m.\u001b[39mTrace(\n\u001b[0;32m   1678\u001b[0m     \u001b[39m\"\u001b[39m\u001b[39mtrain\u001b[39m\u001b[39m\"\u001b[39m,\n\u001b[0;32m   1679\u001b[0m     epoch_num\u001b[39m=\u001b[39mepoch,\n\u001b[1;32m   (...)\u001b[0m\n\u001b[0;32m   1682\u001b[0m     _r\u001b[39m=\u001b[39m\u001b[39m1\u001b[39m,\n\u001b[0;32m   1683\u001b[0m ):\n\u001b[0;32m   1684\u001b[0m     callbacks\u001b[39m.\u001b[39mon_train_batch_begin(step)\n\u001b[1;32m-> 1685\u001b[0m     tmp_logs \u001b[39m=\u001b[39m \u001b[39mself\u001b[39;49m\u001b[39m.\u001b[39;49mtrain_function(iterator)\n\u001b[0;32m   1686\u001b[0m     \u001b[39mif\u001b[39;00m data_handler\u001b[39m.\u001b[39mshould_sync:\n\u001b[0;32m   1687\u001b[0m         context\u001b[39m.\u001b[39masync_wait()\n",
      "File \u001b[1;32mc:\\Users\\alber\\Documents\\GitHub\\TheBridge\\Kaggle-with-AWS\\.venv\\lib\\site-packages\\tensorflow\\python\\util\\traceback_utils.py:150\u001b[0m, in \u001b[0;36mfilter_traceback.<locals>.error_handler\u001b[1;34m(*args, **kwargs)\u001b[0m\n\u001b[0;32m    148\u001b[0m filtered_tb \u001b[39m=\u001b[39m \u001b[39mNone\u001b[39;00m\n\u001b[0;32m    149\u001b[0m \u001b[39mtry\u001b[39;00m:\n\u001b[1;32m--> 150\u001b[0m   \u001b[39mreturn\u001b[39;00m fn(\u001b[39m*\u001b[39margs, \u001b[39m*\u001b[39m\u001b[39m*\u001b[39mkwargs)\n\u001b[0;32m    151\u001b[0m \u001b[39mexcept\u001b[39;00m \u001b[39mException\u001b[39;00m \u001b[39mas\u001b[39;00m e:\n\u001b[0;32m    152\u001b[0m   filtered_tb \u001b[39m=\u001b[39m _process_traceback_frames(e\u001b[39m.\u001b[39m__traceback__)\n",
      "File \u001b[1;32mc:\\Users\\alber\\Documents\\GitHub\\TheBridge\\Kaggle-with-AWS\\.venv\\lib\\site-packages\\tensorflow\\python\\eager\\polymorphic_function\\polymorphic_function.py:894\u001b[0m, in \u001b[0;36mFunction.__call__\u001b[1;34m(self, *args, **kwds)\u001b[0m\n\u001b[0;32m    891\u001b[0m compiler \u001b[39m=\u001b[39m \u001b[39m\"\u001b[39m\u001b[39mxla\u001b[39m\u001b[39m\"\u001b[39m \u001b[39mif\u001b[39;00m \u001b[39mself\u001b[39m\u001b[39m.\u001b[39m_jit_compile \u001b[39melse\u001b[39;00m \u001b[39m\"\u001b[39m\u001b[39mnonXla\u001b[39m\u001b[39m\"\u001b[39m\n\u001b[0;32m    893\u001b[0m \u001b[39mwith\u001b[39;00m OptionalXlaContext(\u001b[39mself\u001b[39m\u001b[39m.\u001b[39m_jit_compile):\n\u001b[1;32m--> 894\u001b[0m   result \u001b[39m=\u001b[39m \u001b[39mself\u001b[39m\u001b[39m.\u001b[39m_call(\u001b[39m*\u001b[39margs, \u001b[39m*\u001b[39m\u001b[39m*\u001b[39mkwds)\n\u001b[0;32m    896\u001b[0m new_tracing_count \u001b[39m=\u001b[39m \u001b[39mself\u001b[39m\u001b[39m.\u001b[39mexperimental_get_tracing_count()\n\u001b[0;32m    897\u001b[0m without_tracing \u001b[39m=\u001b[39m (tracing_count \u001b[39m==\u001b[39m new_tracing_count)\n",
      "File \u001b[1;32mc:\\Users\\alber\\Documents\\GitHub\\TheBridge\\Kaggle-with-AWS\\.venv\\lib\\site-packages\\tensorflow\\python\\eager\\polymorphic_function\\polymorphic_function.py:926\u001b[0m, in \u001b[0;36mFunction._call\u001b[1;34m(self, *args, **kwds)\u001b[0m\n\u001b[0;32m    923\u001b[0m   \u001b[39mself\u001b[39m\u001b[39m.\u001b[39m_lock\u001b[39m.\u001b[39mrelease()\n\u001b[0;32m    924\u001b[0m   \u001b[39m# In this case we have created variables on the first call, so we run the\u001b[39;00m\n\u001b[0;32m    925\u001b[0m   \u001b[39m# defunned version which is guaranteed to never create variables.\u001b[39;00m\n\u001b[1;32m--> 926\u001b[0m   \u001b[39mreturn\u001b[39;00m \u001b[39mself\u001b[39m\u001b[39m.\u001b[39m_no_variable_creation_fn(\u001b[39m*\u001b[39margs, \u001b[39m*\u001b[39m\u001b[39m*\u001b[39mkwds)  \u001b[39m# pylint: disable=not-callable\u001b[39;00m\n\u001b[0;32m    927\u001b[0m \u001b[39melif\u001b[39;00m \u001b[39mself\u001b[39m\u001b[39m.\u001b[39m_variable_creation_fn \u001b[39mis\u001b[39;00m \u001b[39mnot\u001b[39;00m \u001b[39mNone\u001b[39;00m:\n\u001b[0;32m    928\u001b[0m   \u001b[39m# Release the lock early so that multiple threads can perform the call\u001b[39;00m\n\u001b[0;32m    929\u001b[0m   \u001b[39m# in parallel.\u001b[39;00m\n\u001b[0;32m    930\u001b[0m   \u001b[39mself\u001b[39m\u001b[39m.\u001b[39m_lock\u001b[39m.\u001b[39mrelease()\n",
      "File \u001b[1;32mc:\\Users\\alber\\Documents\\GitHub\\TheBridge\\Kaggle-with-AWS\\.venv\\lib\\site-packages\\tensorflow\\python\\eager\\polymorphic_function\\tracing_compiler.py:143\u001b[0m, in \u001b[0;36mTracingCompiler.__call__\u001b[1;34m(self, *args, **kwargs)\u001b[0m\n\u001b[0;32m    140\u001b[0m \u001b[39mwith\u001b[39;00m \u001b[39mself\u001b[39m\u001b[39m.\u001b[39m_lock:\n\u001b[0;32m    141\u001b[0m   (concrete_function,\n\u001b[0;32m    142\u001b[0m    filtered_flat_args) \u001b[39m=\u001b[39m \u001b[39mself\u001b[39m\u001b[39m.\u001b[39m_maybe_define_function(args, kwargs)\n\u001b[1;32m--> 143\u001b[0m \u001b[39mreturn\u001b[39;00m concrete_function\u001b[39m.\u001b[39;49m_call_flat(\n\u001b[0;32m    144\u001b[0m     filtered_flat_args, captured_inputs\u001b[39m=\u001b[39;49mconcrete_function\u001b[39m.\u001b[39;49mcaptured_inputs)\n",
      "File \u001b[1;32mc:\\Users\\alber\\Documents\\GitHub\\TheBridge\\Kaggle-with-AWS\\.venv\\lib\\site-packages\\tensorflow\\python\\eager\\polymorphic_function\\monomorphic_function.py:1757\u001b[0m, in \u001b[0;36mConcreteFunction._call_flat\u001b[1;34m(self, args, captured_inputs, cancellation_manager)\u001b[0m\n\u001b[0;32m   1753\u001b[0m possible_gradient_type \u001b[39m=\u001b[39m gradients_util\u001b[39m.\u001b[39mPossibleTapeGradientTypes(args)\n\u001b[0;32m   1754\u001b[0m \u001b[39mif\u001b[39;00m (possible_gradient_type \u001b[39m==\u001b[39m gradients_util\u001b[39m.\u001b[39mPOSSIBLE_GRADIENT_TYPES_NONE\n\u001b[0;32m   1755\u001b[0m     \u001b[39mand\u001b[39;00m executing_eagerly):\n\u001b[0;32m   1756\u001b[0m   \u001b[39m# No tape is watching; skip to running the function.\u001b[39;00m\n\u001b[1;32m-> 1757\u001b[0m   \u001b[39mreturn\u001b[39;00m \u001b[39mself\u001b[39m\u001b[39m.\u001b[39m_build_call_outputs(\u001b[39mself\u001b[39;49m\u001b[39m.\u001b[39;49m_inference_function\u001b[39m.\u001b[39;49mcall(\n\u001b[0;32m   1758\u001b[0m       ctx, args, cancellation_manager\u001b[39m=\u001b[39;49mcancellation_manager))\n\u001b[0;32m   1759\u001b[0m forward_backward \u001b[39m=\u001b[39m \u001b[39mself\u001b[39m\u001b[39m.\u001b[39m_select_forward_and_backward_functions(\n\u001b[0;32m   1760\u001b[0m     args,\n\u001b[0;32m   1761\u001b[0m     possible_gradient_type,\n\u001b[0;32m   1762\u001b[0m     executing_eagerly)\n\u001b[0;32m   1763\u001b[0m forward_function, args_with_tangents \u001b[39m=\u001b[39m forward_backward\u001b[39m.\u001b[39mforward()\n",
      "File \u001b[1;32mc:\\Users\\alber\\Documents\\GitHub\\TheBridge\\Kaggle-with-AWS\\.venv\\lib\\site-packages\\tensorflow\\python\\eager\\polymorphic_function\\monomorphic_function.py:381\u001b[0m, in \u001b[0;36m_EagerDefinedFunction.call\u001b[1;34m(self, ctx, args, cancellation_manager)\u001b[0m\n\u001b[0;32m    379\u001b[0m \u001b[39mwith\u001b[39;00m _InterpolateFunctionError(\u001b[39mself\u001b[39m):\n\u001b[0;32m    380\u001b[0m   \u001b[39mif\u001b[39;00m cancellation_manager \u001b[39mis\u001b[39;00m \u001b[39mNone\u001b[39;00m:\n\u001b[1;32m--> 381\u001b[0m     outputs \u001b[39m=\u001b[39m execute\u001b[39m.\u001b[39;49mexecute(\n\u001b[0;32m    382\u001b[0m         \u001b[39mstr\u001b[39;49m(\u001b[39mself\u001b[39;49m\u001b[39m.\u001b[39;49msignature\u001b[39m.\u001b[39;49mname),\n\u001b[0;32m    383\u001b[0m         num_outputs\u001b[39m=\u001b[39;49m\u001b[39mself\u001b[39;49m\u001b[39m.\u001b[39;49m_num_outputs,\n\u001b[0;32m    384\u001b[0m         inputs\u001b[39m=\u001b[39;49margs,\n\u001b[0;32m    385\u001b[0m         attrs\u001b[39m=\u001b[39;49mattrs,\n\u001b[0;32m    386\u001b[0m         ctx\u001b[39m=\u001b[39;49mctx)\n\u001b[0;32m    387\u001b[0m   \u001b[39melse\u001b[39;00m:\n\u001b[0;32m    388\u001b[0m     outputs \u001b[39m=\u001b[39m execute\u001b[39m.\u001b[39mexecute_with_cancellation(\n\u001b[0;32m    389\u001b[0m         \u001b[39mstr\u001b[39m(\u001b[39mself\u001b[39m\u001b[39m.\u001b[39msignature\u001b[39m.\u001b[39mname),\n\u001b[0;32m    390\u001b[0m         num_outputs\u001b[39m=\u001b[39m\u001b[39mself\u001b[39m\u001b[39m.\u001b[39m_num_outputs,\n\u001b[1;32m   (...)\u001b[0m\n\u001b[0;32m    393\u001b[0m         ctx\u001b[39m=\u001b[39mctx,\n\u001b[0;32m    394\u001b[0m         cancellation_manager\u001b[39m=\u001b[39mcancellation_manager)\n",
      "File \u001b[1;32mc:\\Users\\alber\\Documents\\GitHub\\TheBridge\\Kaggle-with-AWS\\.venv\\lib\\site-packages\\tensorflow\\python\\eager\\execute.py:52\u001b[0m, in \u001b[0;36mquick_execute\u001b[1;34m(op_name, num_outputs, inputs, attrs, ctx, name)\u001b[0m\n\u001b[0;32m     50\u001b[0m \u001b[39mtry\u001b[39;00m:\n\u001b[0;32m     51\u001b[0m   ctx\u001b[39m.\u001b[39mensure_initialized()\n\u001b[1;32m---> 52\u001b[0m   tensors \u001b[39m=\u001b[39m pywrap_tfe\u001b[39m.\u001b[39;49mTFE_Py_Execute(ctx\u001b[39m.\u001b[39;49m_handle, device_name, op_name,\n\u001b[0;32m     53\u001b[0m                                       inputs, attrs, num_outputs)\n\u001b[0;32m     54\u001b[0m \u001b[39mexcept\u001b[39;00m core\u001b[39m.\u001b[39m_NotOkStatusException \u001b[39mas\u001b[39;00m e:\n\u001b[0;32m     55\u001b[0m   \u001b[39mif\u001b[39;00m name \u001b[39mis\u001b[39;00m \u001b[39mnot\u001b[39;00m \u001b[39mNone\u001b[39;00m:\n",
      "\u001b[1;31mKeyboardInterrupt\u001b[0m: "
     ]
    }
   ],
   "source": [
    "cpu_list=[]\n",
    "batch_sizes = []\n",
    "with tf.device(\"/cpu:0\"):\n",
    "    for i in range(0, 4):\n",
    "        k=2**(7 + i)\n",
    "        print(\"batch size \"+str(k))\n",
    "        model = get_model()\n",
    "        t1 = time.time()\n",
    "        model.fit(x_train, y_train, batch_size=k, epochs=1, validation_data=(x_test, y_test))\n",
    "        t2 = time.time()\n",
    "        cpu_list.append(int(t2-t1))\n",
    "        batch_sizes.append(k)"
   ]
  },
  {
   "cell_type": "code",
   "execution_count": null,
   "id": "8c823ef1",
   "metadata": {
    "ExecuteTime": {
     "end_time": "2021-08-12T04:12:20.871288Z",
     "start_time": "2021-08-12T04:12:20.857286Z"
    },
    "execution": {
     "iopub.execute_input": "2021-08-13T14:43:49.446640Z",
     "iopub.status.busy": "2021-08-13T14:43:49.445899Z",
     "iopub.status.idle": "2021-08-13T14:43:49.448590Z",
     "shell.execute_reply": "2021-08-13T14:43:49.449032Z"
    },
    "papermill": {
     "duration": 2.934145,
     "end_time": "2021-08-13T14:43:49.449171",
     "exception": false,
     "start_time": "2021-08-13T14:43:46.515026",
     "status": "completed"
    },
    "tags": []
   },
   "outputs": [
    {
     "name": "stdout",
     "output_type": "stream",
     "text": [
      "[281, 252, 235, 235, 223, 220, 239]\n"
     ]
    }
   ],
   "source": [
    "print(cpu_list)"
   ]
  },
  {
   "attachments": {},
   "cell_type": "markdown",
   "id": "81e3a949",
   "metadata": {},
   "source": [
    "El tiempo promedio de entrenamiento, por tanto, es:"
   ]
  },
  {
   "cell_type": "code",
   "execution_count": 13,
   "id": "2a84b1cb",
   "metadata": {
    "execution": {
     "iopub.execute_input": "2021-08-13T14:44:01.834346Z",
     "iopub.status.busy": "2021-08-13T14:44:01.833518Z",
     "iopub.status.idle": "2021-08-13T14:44:01.836850Z",
     "shell.execute_reply": "2021-08-13T14:44:01.837391Z"
    },
    "papermill": {
     "duration": 3.145484,
     "end_time": "2021-08-13T14:44:01.837539",
     "exception": false,
     "start_time": "2021-08-13T14:43:58.692055",
     "status": "completed"
    },
    "tags": []
   },
   "outputs": [
    {
     "data": {
      "text/plain": [
       "240.71428571428572"
      ]
     },
     "execution_count": 13,
     "metadata": {},
     "output_type": "execute_result"
    }
   ],
   "source": [
    "cpu_score = sum(cpu_list)/len(cpu_list)\n",
    "cpu_score"
   ]
  },
  {
   "attachments": {},
   "cell_type": "markdown",
   "id": "741e13f9",
   "metadata": {
    "papermill": {
     "duration": 3.991512,
     "end_time": "2021-08-13T14:44:09.015328",
     "exception": false,
     "start_time": "2021-08-13T14:44:05.023816",
     "status": "completed"
    },
    "tags": []
   },
   "source": [
    "# Entrenamiento del modelo en GPU"
   ]
  },
  {
   "cell_type": "code",
   "execution_count": 14,
   "id": "1844cc1f",
   "metadata": {
    "ExecuteTime": {
     "end_time": "2021-08-12T04:13:38.824170Z",
     "start_time": "2021-08-12T04:13:38.698683Z"
    },
    "execution": {
     "iopub.execute_input": "2021-08-13T14:44:15.303426Z",
     "iopub.status.busy": "2021-08-13T14:44:15.302752Z",
     "iopub.status.idle": "2021-08-13T14:44:16.053138Z",
     "shell.execute_reply": "2021-08-13T14:44:16.052614Z"
    },
    "papermill": {
     "duration": 3.873432,
     "end_time": "2021-08-13T14:44:16.053279",
     "exception": false,
     "start_time": "2021-08-13T14:44:12.179847",
     "status": "completed"
    },
    "tags": []
   },
   "outputs": [
    {
     "name": "stdout",
     "output_type": "stream",
     "text": [
      "Fri Aug 13 14:44:15 2021       \r\n",
      "+-----------------------------------------------------------------------------+\r\n",
      "| NVIDIA-SMI 450.119.04   Driver Version: 450.119.04   CUDA Version: 11.0     |\r\n",
      "|-------------------------------+----------------------+----------------------+\r\n",
      "| GPU  Name        Persistence-M| Bus-Id        Disp.A | Volatile Uncorr. ECC |\r\n",
      "| Fan  Temp  Perf  Pwr:Usage/Cap|         Memory-Usage | GPU-Util  Compute M. |\r\n",
      "|                               |                      |               MIG M. |\r\n",
      "|===============================+======================+======================|\r\n",
      "|   0  Tesla P100-PCIE...  Off  | 00000000:00:04.0 Off |                    0 |\r\n",
      "| N/A   39C    P0    34W / 250W |    369MiB / 16280MiB |      0%      Default |\r\n",
      "|                               |                      |                  N/A |\r\n",
      "+-------------------------------+----------------------+----------------------+\r\n",
      "                                                                               \r\n",
      "+-----------------------------------------------------------------------------+\r\n",
      "| Processes:                                                                  |\r\n",
      "|  GPU   GI   CI        PID   Type   Process name                  GPU Memory |\r\n",
      "|        ID   ID                                                   Usage      |\r\n",
      "|=============================================================================|\r\n",
      "+-----------------------------------------------------------------------------+\r\n"
     ]
    }
   ],
   "source": [
    "!nvidia-smi"
   ]
  },
  {
   "cell_type": "code",
   "execution_count": 16,
   "id": "f16cff4d",
   "metadata": {
    "ExecuteTime": {
     "end_time": "2021-08-12T04:13:37.623124Z",
     "start_time": "2021-08-12T04:12:20.981874Z"
    },
    "execution": {
     "iopub.execute_input": "2021-08-13T14:44:28.476367Z",
     "iopub.status.busy": "2021-08-13T14:44:28.475480Z",
     "iopub.status.idle": "2021-08-13T14:45:59.330715Z",
     "shell.execute_reply": "2021-08-13T14:45:59.331189Z"
    },
    "papermill": {
     "duration": 93.765992,
     "end_time": "2021-08-13T14:45:59.331341",
     "exception": false,
     "start_time": "2021-08-13T14:44:25.565349",
     "status": "completed"
    },
    "tags": []
   },
   "outputs": [
    {
     "name": "stdout",
     "output_type": "stream",
     "text": [
      "gpu_list :  []\n",
      "batch size 8\n",
      "7500/7500 [==============================] - 39s 4ms/step - loss: 0.4000 - accuracy: 0.8823 - val_loss: 0.0549 - val_accuracy: 0.9817\n",
      "batch size 16\n",
      "3750/3750 [==============================] - 20s 5ms/step - loss: 0.0697 - accuracy: 0.9791 - val_loss: 0.0235 - val_accuracy: 0.9912\n",
      "batch size 32\n",
      "1875/1875 [==============================] - 14s 7ms/step - loss: 0.0440 - accuracy: 0.9868 - val_loss: 0.0210 - val_accuracy: 0.9925\n",
      "batch size 64\n",
      "938/938 [==============================] - 6s 7ms/step - loss: 0.0342 - accuracy: 0.9893 - val_loss: 0.0189 - val_accuracy: 0.9933\n",
      "batch size 128\n",
      "469/469 [==============================] - 4s 9ms/step - loss: 0.0304 - accuracy: 0.9908 - val_loss: 0.0185 - val_accuracy: 0.9935\n",
      "batch size 256\n",
      "235/235 [==============================] - 3s 14ms/step - loss: 0.0277 - accuracy: 0.9914 - val_loss: 0.0180 - val_accuracy: 0.9933\n",
      "batch size 512\n",
      "118/118 [==============================] - 3s 23ms/step - loss: 0.0263 - accuracy: 0.9921 - val_loss: 0.0181 - val_accuracy: 0.9932\n"
     ]
    }
   ],
   "source": [
    "gpu_list=[]\n",
    "batch_sizes = []\n",
    "print(\"gpu_list : \", gpu_list)\n",
    "with tf.device(\"/gpu:0\"):\n",
    "    for i in range(0, 4):\n",
    "        k=2**(7 + i)\n",
    "        print(\"batch size \"+str(k))\n",
    "        model = get_model()\n",
    "        t1 = time.time()\n",
    "        model.fit(x_train, y_train, batch_size=k, epochs=1, validation_data=(x_test, y_test))\n",
    "        t2 = time.time()\n",
    "        gpu_list.append(int(t2-t1))\n",
    "        batch_sizes.append(k)"
   ]
  },
  {
   "cell_type": "code",
   "execution_count": 17,
   "id": "5887b7e2",
   "metadata": {
    "ExecuteTime": {
     "end_time": "2021-08-12T04:13:37.638544Z",
     "start_time": "2021-08-12T04:13:37.624545Z"
    },
    "execution": {
     "iopub.execute_input": "2021-08-13T14:46:05.891968Z",
     "iopub.status.busy": "2021-08-13T14:46:05.891168Z",
     "iopub.status.idle": "2021-08-13T14:46:05.894575Z",
     "shell.execute_reply": "2021-08-13T14:46:05.895080Z"
    },
    "papermill": {
     "duration": 3.311248,
     "end_time": "2021-08-13T14:46:05.895226",
     "exception": false,
     "start_time": "2021-08-13T14:46:02.583978",
     "status": "completed"
    },
    "tags": []
   },
   "outputs": [
    {
     "data": {
      "text/plain": [
       "[38, 20, 13, 6, 4, 3, 3]"
      ]
     },
     "execution_count": 17,
     "metadata": {},
     "output_type": "execute_result"
    }
   ],
   "source": [
    "gpu_list"
   ]
  },
  {
   "attachments": {},
   "cell_type": "markdown",
   "id": "9c987fd2",
   "metadata": {
    "papermill": {
     "duration": 3.547542,
     "end_time": "2021-08-13T14:46:19.620227",
     "exception": false,
     "start_time": "2021-08-13T14:46:16.072685",
     "status": "completed"
    },
    "tags": []
   },
   "source": [
    "Como podemos apreciar, el entrenamiento en GPU es mucho más rápido que en CPU."
   ]
  },
  {
   "cell_type": "code",
   "execution_count": 18,
   "id": "b8a45bb7",
   "metadata": {
    "ExecuteTime": {
     "end_time": "2021-08-12T04:13:37.654152Z",
     "start_time": "2021-08-12T04:13:37.639545Z"
    },
    "execution": {
     "iopub.execute_input": "2021-08-13T14:46:26.283894Z",
     "iopub.status.busy": "2021-08-13T14:46:26.283077Z",
     "iopub.status.idle": "2021-08-13T14:46:26.285903Z",
     "shell.execute_reply": "2021-08-13T14:46:26.286300Z"
    },
    "papermill": {
     "duration": 3.319127,
     "end_time": "2021-08-13T14:46:26.286442",
     "exception": false,
     "start_time": "2021-08-13T14:46:22.967315",
     "status": "completed"
    },
    "tags": []
   },
   "outputs": [
    {
     "data": {
      "text/plain": [
       "12.428571428571429"
      ]
     },
     "execution_count": 18,
     "metadata": {},
     "output_type": "execute_result"
    }
   ],
   "source": [
    "gpu_score = sum(gpu_list)/len(gpu_list)\n",
    "gpu_score"
   ]
  },
  {
   "attachments": {},
   "cell_type": "markdown",
   "id": "97091fd5",
   "metadata": {},
   "source": [
    "## Comparación gráfica"
   ]
  },
  {
   "cell_type": "code",
   "execution_count": 19,
   "id": "59d7f6b3",
   "metadata": {
    "ExecuteTime": {
     "end_time": "2021-08-12T04:13:37.809908Z",
     "start_time": "2021-08-12T04:13:37.655685Z"
    },
    "execution": {
     "iopub.execute_input": "2021-08-13T14:46:33.676078Z",
     "iopub.status.busy": "2021-08-13T14:46:33.662540Z",
     "iopub.status.idle": "2021-08-13T14:46:33.886753Z",
     "shell.execute_reply": "2021-08-13T14:46:33.887174Z"
    },
    "papermill": {
     "duration": 3.569958,
     "end_time": "2021-08-13T14:46:33.887313",
     "exception": false,
     "start_time": "2021-08-13T14:46:30.317355",
     "status": "completed"
    },
    "tags": []
   },
   "outputs": [
    {
     "data": {
      "image/png": "[encoded data removed]",
      "text/plain": [
       "<Figure size 432x288 with 1 Axes>"
      ]
     },
     "metadata": {
      "needs_background": "light"
     },
     "output_type": "display_data"
    }
   ],
   "source": [
    "plt.plot(batch_sizes,gpu_list,'bo')\n",
    "plt.plot(batch_sizes,cpu_list,'ro')\n",
    "plt.plot(batch_sizes,gpu_list,'b--')\n",
    "plt.plot(batch_sizes,cpu_list,'r--')\n",
    "plt.ylabel('training time per epoch (s)')\n",
    "plt.xlabel('batch size')\n",
    "plt.legend(['gpu', 'cpu'], loc='upper right')\n",
    "plt.ylim([0,400])\n",
    "plt.savefig('CPUvsGPU.png') \n",
    "plt.show()"
   ]
  }
 ],
 "metadata": {
  "kernelspec": {
   "display_name": "Python 3",
   "language": "python",
   "name": "python3"
  },
  "language_info": {
   "codemirror_mode": {
    "name": "ipython",
    "version": 3
   },
   "file_extension": ".py",
   "mimetype": "text/x-python",
   "name": "python",
   "nbconvert_exporter": "python",
   "pygments_lexer": "ipython3",
   "version": "3.10.8"
  },
  "papermill": {
   "default_parameters": {},
   "duration": 1885.444368,
   "end_time": "2021-08-13T14:46:46.838215",
   "environment_variables": {},
   "exception": null,
   "input_path": "__notebook__.ipynb",
   "output_path": "__notebook__.ipynb",
   "parameters": {},
   "start_time": "2021-08-13T14:15:21.393847",
   "version": "2.3.3"
  }
 },
 "nbformat": 4,
 "nbformat_minor": 5
}
