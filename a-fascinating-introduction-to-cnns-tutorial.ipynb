{
 "cells": [
  {
   "attachments": {},
   "cell_type": "markdown",
   "id": "270dacc7",
   "metadata": {
    "papermill": {
     "duration": 0.010419,
     "end_time": "2023-06-19T10:05:29.204449",
     "exception": false,
     "start_time": "2023-06-19T10:05:29.194030",
     "status": "completed"
    },
    "tags": []
   },
   "source": [
    "<center><b> In this notebook, I have tried my best to explain all the concepts of convolutional neural networks (CNN) with the help of illustrations and in-depth descriptions. </b></center>\n",
    "\n",
    "<hr>"
   ]
  },
  {
   "attachments": {},
   "cell_type": "markdown",
   "id": "82456df1",
   "metadata": {
    "papermill": {
     "duration": 0.010048,
     "end_time": "2023-06-19T10:05:29.224552",
     "exception": false,
     "start_time": "2023-06-19T10:05:29.214504",
     "status": "completed"
    },
    "tags": []
   },
   "source": [
    "# Importing required libraries\n",
    "\n",
    "The following libraries are imported at the beginning of the code:\n",
    "\n",
    "- `numpy`: a library for numerical computing in Python\n",
    "- `pandas`: a library for data manipulation and analysis\n",
    "- `os`: a module for interacting with the operating system\n",
    "- `matplotlib.pyplot`: a module for creating visualizations in Python\n",
    "\n"
   ]
  },
  {
   "cell_type": "code",
   "execution_count": 3,
   "id": "540bd847",
   "metadata": {
    "_cell_guid": "b1076dfc-b9ad-4769-8c92-a6c4dae69d19",
    "_uuid": "8f2839f25d086af736a60e9eeb907d3b93b6e0e5",
    "execution": {
     "iopub.execute_input": "2023-06-19T10:05:29.246231Z",
     "iopub.status.busy": "2023-06-19T10:05:29.245571Z",
     "iopub.status.idle": "2023-06-19T10:05:29.257331Z",
     "shell.execute_reply": "2023-06-19T10:05:29.256536Z"
    },
    "papermill": {
     "duration": 0.024895,
     "end_time": "2023-06-19T10:05:29.259336",
     "exception": false,
     "start_time": "2023-06-19T10:05:29.234441",
     "status": "completed"
    },
    "tags": []
   },
   "outputs": [
    {
     "name": "stdout",
     "output_type": "stream",
     "text": [
      "Num GPUs Available:  0\n",
      "Testing with GPU: ERROR <GPU NO AVAILABLE>\n",
      "[name: \"/device:CPU:0\"\n",
      "device_type: \"CPU\"\n",
      "memory_limit: 268435456\n",
      "locality {\n",
      "}\n",
      "incarnation: 8739573184475615479\n",
      "xla_global_id: -1\n",
      "]\n"
     ]
    }
   ],
   "source": [
    "import numpy as np \n",
    "import pandas as pd \n",
    "import matplotlib.pyplot as plt\n",
    "import os\n",
    "\n",
    "import tensorflow as tf\n",
    "print(\"Num GPUs Available: \", len(tf.config.list_physical_devices('GPU')))\n",
    "\n",
    "gpu_name = tf.test.gpu_device_name()\n",
    "if (gpu_name != ''):\n",
    "    gpu_message = gpu_name  \n",
    "    print(\"Testing with GPU: {}\".format(gpu_message))\n",
    "else:\n",
    "    gpu_message = \"ERROR <GPU NO AVAILABLE>\"\n",
    "    print(\"Testing with GPU: {}\".format(gpu_message))\n",
    "\n",
    "from tensorflow.python.client import device_lib\n",
    "print(device_lib.list_local_de vices())"
   ]
  },
  {
   "attachments": {},
   "cell_type": "markdown",
   "id": "242c5734",
   "metadata": {
    "_cell_guid": "79c7e3d0-c299-4dcb-8224-4455121ee9b0",
    "_uuid": "d629ff2d2480ee46fbb7e2d37f6b5fab8052498a",
    "papermill": {
     "duration": 0.009748,
     "end_time": "2023-06-19T10:05:29.279015",
     "exception": false,
     "start_time": "2023-06-19T10:05:29.269267",
     "status": "completed"
    },
    "tags": []
   },
   "source": [
    "\n",
    "# Loading and Visualizing Data\n",
    "In this section, we will be loading and visualizing the dataset. \n",
    "We will first use pandas to read the csv file\n",
    "\n"
   ]
  },
  {
   "cell_type": "code",
   "execution_count": 2,
   "id": "da53687c",
   "metadata": {
    "_uuid": "6884db4361a209f639cd6f3bf15231d271ecf563",
    "execution": {
     "iopub.execute_input": "2023-06-19T10:05:29.299808Z",
     "iopub.status.busy": "2023-06-19T10:05:29.299543Z",
     "iopub.status.idle": "2023-06-19T10:05:32.639056Z",
     "shell.execute_reply": "2023-06-19T10:05:32.638067Z"
    },
    "papermill": {
     "duration": 3.352619,
     "end_time": "2023-06-19T10:05:32.641516",
     "exception": false,
     "start_time": "2023-06-19T10:05:29.288897",
     "status": "completed"
    },
    "tags": []
   },
   "outputs": [
    {
     "name": "stdout",
     "output_type": "stream",
     "text": [
      "Shape of training dataset is: (42000, 785)\n"
     ]
    }
   ],
   "source": [
    "#First we read the training dataset\n",
    "train = pd.read_csv(\"data/train.csv\") \n",
    "train.head()\n",
    "print(f\"Shape of training dataset is: {train.shape}\")"
   ]
  },
  {
   "cell_type": "code",
   "execution_count": 3,
   "id": "91664364",
   "metadata": {
    "_uuid": "d7ab3a0db0c87aef2bb65fae5f564ff4b1260a96",
    "execution": {
     "iopub.execute_input": "2023-06-19T10:05:32.664008Z",
     "iopub.status.busy": "2023-06-19T10:05:32.663197Z",
     "iopub.status.idle": "2023-06-19T10:05:34.681329Z",
     "shell.execute_reply": "2023-06-19T10:05:34.679376Z"
    },
    "papermill": {
     "duration": 2.031331,
     "end_time": "2023-06-19T10:05:34.683465",
     "exception": false,
     "start_time": "2023-06-19T10:05:32.652134",
     "status": "completed"
    },
    "tags": []
   },
   "outputs": [
    {
     "name": "stdout",
     "output_type": "stream",
     "text": [
      "Shape of testing dataset is: (28000, 784)\n"
     ]
    }
   ],
   "source": [
    "# Now we read testing dataset \n",
    "test = pd.read_csv(\"../input/digit-recognizer/test.csv\") \n",
    "test.head()\n",
    "print(f\"Shape of testing dataset is: {test.shape}\")"
   ]
  },
  {
   "cell_type": "code",
   "execution_count": 4,
   "id": "b8c2dbdd",
   "metadata": {
    "_uuid": "318d94f6e935a6d8210d0ac03707dfa6e3946475",
    "execution": {
     "iopub.execute_input": "2023-06-19T10:05:34.706011Z",
     "iopub.status.busy": "2023-06-19T10:05:34.705711Z",
     "iopub.status.idle": "2023-06-19T10:05:34.817078Z",
     "shell.execute_reply": "2023-06-19T10:05:34.815998Z"
    },
    "papermill": {
     "duration": 0.12551,
     "end_time": "2023-06-19T10:05:34.819510",
     "exception": false,
     "start_time": "2023-06-19T10:05:34.694000",
     "status": "completed"
    },
    "tags": []
   },
   "outputs": [],
   "source": [
    "#Now, we extract labels\n",
    "Y_train = train[\"label\"]\n",
    "# Drop 'label' column so that we can directly extract training pixel values in the required format\n",
    "train_temp=train.drop(labels = [\"label\"],axis = 1) \n",
    "X_train = train_temp.values.reshape((-1,28,28)).astype(np.uint8)[:,:,:,None]\n"
   ]
  },
  {
   "cell_type": "code",
   "execution_count": 5,
   "id": "09dc32fe",
   "metadata": {
    "_uuid": "8902b0312e6c047596cf27ebba554a68b82604b2",
    "execution": {
     "iopub.execute_input": "2023-06-19T10:05:34.841523Z",
     "iopub.status.busy": "2023-06-19T10:05:34.841205Z",
     "iopub.status.idle": "2023-06-19T10:05:35.129389Z",
     "shell.execute_reply": "2023-06-19T10:05:35.128472Z"
    },
    "papermill": {
     "duration": 0.301337,
     "end_time": "2023-06-19T10:05:35.131391",
     "exception": false,
     "start_time": "2023-06-19T10:05:34.830054",
     "status": "completed"
    },
    "tags": []
   },
   "outputs": [
    {
     "data": {
      "image/png": "[encoded data removed]",
      "text/plain": [
       "<Figure size 1500x700 with 1 Axes>"
      ]
     },
     "metadata": {},
     "output_type": "display_data"
    }
   ],
   "source": [
    "import matplotlib.pyplot as plt\n",
    "\n",
    "# Visualize number of digit classes\n",
    "plt.figure(figsize=(15, 7))\n",
    "count = Y_train.value_counts()\n",
    "plt.bar(count.index, count.values, color='teal')\n",
    "plt.title('Number of Digit Classes')\n",
    "plt.show()"
   ]
  },
  {
   "cell_type": "code",
   "execution_count": 6,
   "id": "59f521b9",
   "metadata": {
    "_uuid": "4c9d3a1467cf82a3dff04967a9846906f9758ed4",
    "execution": {
     "iopub.execute_input": "2023-06-19T10:05:35.154982Z",
     "iopub.status.busy": "2023-06-19T10:05:35.153389Z",
     "iopub.status.idle": "2023-06-19T10:05:35.548083Z",
     "shell.execute_reply": "2023-06-19T10:05:35.546869Z"
    },
    "papermill": {
     "duration": 0.40884,
     "end_time": "2023-06-19T10:05:35.550793",
     "exception": false,
     "start_time": "2023-06-19T10:05:35.141953",
     "status": "completed"
    },
    "tags": []
   },
   "outputs": [
    {
     "data": {
      "image/png": "[encoded data removed]",
      "text/plain": [
       "<Figure size 600x600 with 9 Axes>"
      ]
     },
     "metadata": {},
     "output_type": "display_data"
    }
   ],
   "source": [
    "_,ax = plt.subplots(3,3,figsize=(6,6))\n",
    "\n",
    "\n",
    "\n",
    "for i,( image,label) in enumerate(zip(X_train,Y_train)) :\n",
    "    \n",
    "    \n",
    "    ax[i//3][i%3].imshow(image.squeeze())\n",
    "    ax[i//3][i%3].axis('off')\n",
    "    ax[i//3][i%3].set_title(f\"Label: {label}\",y=-0.3)\n",
    "    if(i==8): break\n",
    "plt.subplots_adjust(hspace=0.5)\n",
    "plt.show()"
   ]
  },
  {
   "attachments": {},
   "cell_type": "markdown",
   "id": "47d08af4",
   "metadata": {
    "_uuid": "74e341f4845b42101182eda3c990e3dc4dc64dff",
    "papermill": {
     "duration": 0.018612,
     "end_time": "2023-06-19T10:05:35.593601",
     "exception": false,
     "start_time": "2023-06-19T10:05:35.574989",
     "status": "completed"
    },
    "tags": []
   },
   "source": [
    "\n",
    "# Preprocessing Steps for Image Classification using CNNs\n",
    "## Normalization\n",
    "Normalization is performed on the images to reduce the effect of illumination differences. Grayscale normalization is commonly used as it helps CNNs to work faster.\n",
    "\n",
    "## Reshape\n",
    "The input images are of size 28 x 28. Therefore, we reshape all the data to 28x28x1 3D matrices. Keras requires an extra dimension at the end, which corresponds to channels. As the images are grayscale, only one channel is used.\n",
    "\n",
    "## Label Encoding\n",
    "Label encoding is performed to encode the labels to one-hot vectors. For example, the label \"2\" is encoded as [0,0,1,0,0,0,0,0,0,0], and the label \"4\" is encoded as [0,0,0,0,1,0,0,0,0,0]. This allows us to use categorical cross-entropy as the loss function in our CNN mode"
   ]
  },
  {
   "attachments": {},
   "cell_type": "markdown",
   "id": "a40941ec",
   "metadata": {
    "papermill": {
     "duration": 0.010401,
     "end_time": "2023-06-19T10:05:35.614654",
     "exception": false,
     "start_time": "2023-06-19T10:05:35.604253",
     "status": "completed"
    },
    "tags": []
   },
   "source": [
    "We will first normalize the data"
   ]
  },
  {
   "cell_type": "code",
   "execution_count": 7,
   "id": "53b13e52",
   "metadata": {
    "_uuid": "f39e537f15757b5da3363c138a33e50bd78bbf49",
    "execution": {
     "iopub.execute_input": "2023-06-19T10:05:35.637128Z",
     "iopub.status.busy": "2023-06-19T10:05:35.636801Z",
     "iopub.status.idle": "2023-06-19T10:05:35.787155Z",
     "shell.execute_reply": "2023-06-19T10:05:35.786177Z"
    },
    "papermill": {
     "duration": 0.164298,
     "end_time": "2023-06-19T10:05:35.789501",
     "exception": false,
     "start_time": "2023-06-19T10:05:35.625203",
     "status": "completed"
    },
    "tags": []
   },
   "outputs": [],
   "source": [
    "X_train = X_train / 255.0\n",
    "test = test / 255.0\n"
   ]
  },
  {
   "attachments": {},
   "cell_type": "markdown",
   "id": "b4442b27",
   "metadata": {
    "papermill": {
     "duration": 0.010388,
     "end_time": "2023-06-19T10:05:35.811199",
     "exception": false,
     "start_time": "2023-06-19T10:05:35.800811",
     "status": "completed"
    },
    "tags": []
   },
   "source": [
    "Now we print and observe the shapes"
   ]
  },
  {
   "cell_type": "code",
   "execution_count": 8,
   "id": "685acec5",
   "metadata": {
    "execution": {
     "iopub.execute_input": "2023-06-19T10:05:35.833993Z",
     "iopub.status.busy": "2023-06-19T10:05:35.833261Z",
     "iopub.status.idle": "2023-06-19T10:05:35.838915Z",
     "shell.execute_reply": "2023-06-19T10:05:35.837894Z"
    },
    "papermill": {
     "duration": 0.020441,
     "end_time": "2023-06-19T10:05:35.842253",
     "exception": false,
     "start_time": "2023-06-19T10:05:35.821812",
     "status": "completed"
    },
    "tags": []
   },
   "outputs": [
    {
     "name": "stdout",
     "output_type": "stream",
     "text": [
      "Training images shape:  (42000, 28, 28, 1)\n",
      "Test images shape:  (28000, 784)\n"
     ]
    }
   ],
   "source": [
    "print(\"Training images shape: \",X_train.shape)\n",
    "print(\"Test images shape: \",test.shape)"
   ]
  },
  {
   "attachments": {},
   "cell_type": "markdown",
   "id": "208b6790",
   "metadata": {
    "papermill": {
     "duration": 0.010429,
     "end_time": "2023-06-19T10:05:35.863304",
     "exception": false,
     "start_time": "2023-06-19T10:05:35.852875",
     "status": "completed"
    },
    "tags": []
   },
   "source": [
    "Test images haven't been reshaped. We thus first reshape them"
   ]
  },
  {
   "cell_type": "code",
   "execution_count": 9,
   "id": "f4ef7e56",
   "metadata": {
    "_uuid": "d524f6de086928158a76c54d1685a92c1802e230",
    "execution": {
     "iopub.execute_input": "2023-06-19T10:05:35.885762Z",
     "iopub.status.busy": "2023-06-19T10:05:35.885492Z",
     "iopub.status.idle": "2023-06-19T10:05:35.891059Z",
     "shell.execute_reply": "2023-06-19T10:05:35.890170Z"
    },
    "papermill": {
     "duration": 0.018791,
     "end_time": "2023-06-19T10:05:35.892834",
     "exception": false,
     "start_time": "2023-06-19T10:05:35.874043",
     "status": "completed"
    },
    "tags": []
   },
   "outputs": [],
   "source": [
    "test = test.values.reshape(-1,28,28,1)\n"
   ]
  },
  {
   "cell_type": "code",
   "execution_count": 10,
   "id": "40431aaa",
   "metadata": {
    "execution": {
     "iopub.execute_input": "2023-06-19T10:05:35.915878Z",
     "iopub.status.busy": "2023-06-19T10:05:35.915097Z",
     "iopub.status.idle": "2023-06-19T10:05:35.920407Z",
     "shell.execute_reply": "2023-06-19T10:05:35.919381Z"
    },
    "papermill": {
     "duration": 0.019586,
     "end_time": "2023-06-19T10:05:35.923167",
     "exception": false,
     "start_time": "2023-06-19T10:05:35.903581",
     "status": "completed"
    },
    "tags": []
   },
   "outputs": [
    {
     "name": "stdout",
     "output_type": "stream",
     "text": [
      "Training images shape:  (42000, 28, 28, 1)\n",
      "Test images shape:  (28000, 28, 28, 1)\n"
     ]
    }
   ],
   "source": [
    "print(\"Training images shape: \",X_train.shape)\n",
    "print(\"Test images shape: \",test.shape)"
   ]
  },
  {
   "attachments": {},
   "cell_type": "markdown",
   "id": "a798e6e4",
   "metadata": {
    "papermill": {
     "duration": 0.010436,
     "end_time": "2023-06-19T10:05:35.944299",
     "exception": false,
     "start_time": "2023-06-19T10:05:35.933863",
     "status": "completed"
    },
    "tags": []
   },
   "source": [
    "Now we perform one-hot encoding for the labels"
   ]
  },
  {
   "cell_type": "code",
   "execution_count": 11,
   "id": "bc6d7c94",
   "metadata": {
    "_uuid": "d15d35ca439dce194a96f4442c7a1c085ce24d28",
    "execution": {
     "iopub.execute_input": "2023-06-19T10:05:35.966869Z",
     "iopub.status.busy": "2023-06-19T10:05:35.966575Z",
     "iopub.status.idle": "2023-06-19T10:05:42.740751Z",
     "shell.execute_reply": "2023-06-19T10:05:42.739748Z"
    },
    "papermill": {
     "duration": 6.788356,
     "end_time": "2023-06-19T10:05:42.743403",
     "exception": false,
     "start_time": "2023-06-19T10:05:35.955047",
     "status": "completed"
    },
    "tags": []
   },
   "outputs": [
    {
     "name": "stderr",
     "output_type": "stream",
     "text": [
      "/opt/conda/lib/python3.10/site-packages/tensorflow_io/python/ops/__init__.py:98: UserWarning: unable to load libtensorflow_io_plugins.so: unable to open file: libtensorflow_io_plugins.so, from paths: ['/opt/conda/lib/python3.10/site-packages/tensorflow_io/python/ops/libtensorflow_io_plugins.so']\n",
      "caused by: ['/opt/conda/lib/python3.10/site-packages/tensorflow_io/python/ops/libtensorflow_io_plugins.so: undefined symbol: _ZN3tsl6StatusC1EN10tensorflow5error4CodeESt17basic_string_viewIcSt11char_traitsIcEENS_14SourceLocationE']\n",
      "  warnings.warn(f\"unable to load libtensorflow_io_plugins.so: {e}\")\n",
      "/opt/conda/lib/python3.10/site-packages/tensorflow_io/python/ops/__init__.py:104: UserWarning: file system plugins are not loaded: unable to open file: libtensorflow_io.so, from paths: ['/opt/conda/lib/python3.10/site-packages/tensorflow_io/python/ops/libtensorflow_io.so']\n",
      "caused by: ['/opt/conda/lib/python3.10/site-packages/tensorflow_io/python/ops/libtensorflow_io.so: undefined symbol: _ZTVN10tensorflow13GcsFileSystemE']\n",
      "  warnings.warn(f\"file system plugins are not loaded: {e}\")\n"
     ]
    }
   ],
   "source": [
    "from keras.utils.np_utils import to_categorical #Used for one-hot encoding\n",
    "Y_train = to_categorical(Y_train, num_classes = 10)"
   ]
  },
  {
   "attachments": {},
   "cell_type": "markdown",
   "id": "80bef252",
   "metadata": {
    "_uuid": "111d4a1e66d823363f890f892bba39d692479663",
    "papermill": {
     "duration": 0.010654,
     "end_time": "2023-06-19T10:05:42.765342",
     "exception": false,
     "start_time": "2023-06-19T10:05:42.754688",
     "status": "completed"
    },
    "tags": []
   },
   "source": [
    "\n",
    "# Train Test Split\n",
    " We will be splitting the data into training and testing set using sklearn's train_test_split function\n",
    "* test split size is 10% while train split size is 90%.\n"
   ]
  },
  {
   "cell_type": "code",
   "execution_count": 12,
   "id": "822465d9",
   "metadata": {
    "_uuid": "882d9dfb1bee94b2ec1e83911e3e334994d74f4b",
    "execution": {
     "iopub.execute_input": "2023-06-19T10:05:42.789144Z",
     "iopub.status.busy": "2023-06-19T10:05:42.787903Z",
     "iopub.status.idle": "2023-06-19T10:05:43.889332Z",
     "shell.execute_reply": "2023-06-19T10:05:43.888145Z"
    },
    "papermill": {
     "duration": 1.115998,
     "end_time": "2023-06-19T10:05:43.892196",
     "exception": false,
     "start_time": "2023-06-19T10:05:42.776198",
     "status": "completed"
    },
    "tags": []
   },
   "outputs": [
    {
     "name": "stdout",
     "output_type": "stream",
     "text": [
      "Training images set shape (37800, 28, 28, 1)\n",
      "Testing images set shape (37800, 28, 28, 1)\n",
      "Training labels shape (37800, 10)\n",
      "Validaation labels shape (4200, 10)\n"
     ]
    }
   ],
   "source": [
    "# Split the train and the validation set for the fitting\n",
    "from sklearn.model_selection import train_test_split\n",
    "X_train, X_test, Y_train, Y_test = train_test_split(X_train, Y_train, test_size = 0.1, random_state=2)\n",
    "print(\"Training images set shape\",X_train.shape)\n",
    "print(\"Testing images set shape\",X_train.shape)\n",
    "print(\"Training labels shape\",Y_train.shape)\n",
    "print(\"Validaation labels shape\",Y_test.shape)"
   ]
  },
  {
   "attachments": {},
   "cell_type": "markdown",
   "id": "f96742e7",
   "metadata": {
    "_uuid": "caf4b9f7fcae153ac1d4c0246b1defc9d9d30776",
    "papermill": {
     "duration": 0.010787,
     "end_time": "2023-06-19T10:05:43.914317",
     "exception": false,
     "start_time": "2023-06-19T10:05:43.903530",
     "status": "completed"
    },
    "tags": []
   },
   "source": [
    "# Convolutional Neural Network\n",
    "Convolutional Neural Networks (CNNs) are a type of deep learning algorithm used for image classification and object detection. They are widely used in computer vision applications due to their ability to automatically learn and extract features from images. CNNs consist of a series of convolutional layers that apply filters to the input image, followed by pooling layers that downsample the output of the convolutional layers.\n",
    "\n",
    "Here is an example of a CNN architecture for image classification:\n",
    "* <a href=\"https://ibb.co/kV1j9p\"><img src=\"https://preview.ibb.co/nRkBpp/gec2.jpg\" alt=\"gec2\" border=\"0\"></a>"
   ]
  },
  {
   "attachments": {},
   "cell_type": "markdown",
   "id": "32044687",
   "metadata": {
    "_uuid": "682cb6f5144794038c0bef1dc0814dde0f7fe6c0",
    "papermill": {
     "duration": 0.010677,
     "end_time": "2023-06-19T10:05:43.936229",
     "exception": false,
     "start_time": "2023-06-19T10:05:43.925552",
     "status": "completed"
    },
    "tags": []
   },
   "source": [
    "### Understanding Convolution Operation\n",
    "Convolution operation is an essential technique used in convolutional neural networks (CNNs) for image classification. It involves using a feature detector/kernel/filter of a certain size (e.g., 3x3, 5x5, or 7x7) to detect specific features in an image, such as edges or shapes. The feature detector convolves or slides over the input image, performing element-wise multiplication of the corresponding pixel values. This results in a feature map or convolved feature that highlights the detected feature in the image. We use multiple feature detectors to create multiple feature maps, which are important for accurate classification. The stride is the number of steps that the feature detector takes while navigating over the input image. The size of the input image is reduced during convolution, which is useful for faster processing, but it also results in some loss of information.\n",
    "\n",
    " <a href=\"https://imgbb.com/\"><img src=\"https://image.ibb.co/m4FQC9/gec.jpg\" alt=\"gec\" border=\"0\"></a><br>\n",
    " After applying the convolutional layer, ReLU activation function is used to introduce non-linearity in the model. This helps in breaking the linearity of the image data and improving the model's ability to capture non-linear features in the image (as most of the data is non-linear in nature, we need to introduce back non-linearity)\n",
    " <br>\n",
    " <a href=\"https://ibb.co/mVZih9\"><img src=\"https://preview.ibb.co/gbcQvU/RELU.jpg\" alt=\"RELU\" border=\"0\"></a>"
   ]
  },
  {
   "attachments": {},
   "cell_type": "markdown",
   "id": "56b628d7",
   "metadata": {
    "_uuid": "3af8fb49243719ad70016b64cd4dff6e62c413d9",
    "papermill": {
     "duration": 0.010612,
     "end_time": "2023-06-19T10:05:43.957721",
     "exception": false,
     "start_time": "2023-06-19T10:05:43.947109",
     "status": "completed"
    },
    "tags": []
   },
   "source": [
    "### Preserving the Image Dimensions (Padding)\n",
    "CNNs use convolutions to extract features from images, and each convolution reduces the size of the input volume. Same padding is used in the early layers of a CNN to prevent this reduction in size and preserve important information about the original input, which helps to extract low-level features effectively. Essentially, same padding ensures that the output size of a convolutional layer is the same as the input size.\n",
    "<br> <a href=\"https://ibb.co/jUPkUp\"><img src=\"https://preview.ibb.co/noH5Up/padding.jpg\" alt=\"padding\" border=\"0\"></a>"
   ]
  },
  {
   "attachments": {},
   "cell_type": "markdown",
   "id": "695fad62",
   "metadata": {
    "_uuid": "6694b8ea366f974d6bd055a2915a5dc06f7a96bb",
    "papermill": {
     "duration": 0.010604,
     "end_time": "2023-06-19T10:05:43.979214",
     "exception": false,
     "start_time": "2023-06-19T10:05:43.968610",
     "status": "completed"
    },
    "tags": []
   },
   "source": [
    "\n",
    "### Max Pooling\n",
    "Max pooling is an essential component of Convolutional Neural Networks (CNNs) that helps in down-sampling or sub-sampling of the input image. This process helps to reduce the number of parameters in the network, which in turn helps control overfitting. Additionally, max pooling also makes the detection of features invariant to scale or orientation changes, which is crucial in image recognition tasks. By reducing the amount of parameters and computation required in the network, max pooling helps to improve the overall efficiency and accuracy of the model.\n",
    "\n",
    ". \n",
    "<a href=\"https://ibb.co/ckTjN9\"><img src=\"https://preview.ibb.co/gsNYFU/maxpool.jpg\" alt=\"maxpool\" border=\"0\"></a>"
   ]
  },
  {
   "attachments": {},
   "cell_type": "markdown",
   "id": "4e93c1bd",
   "metadata": {
    "_uuid": "c2fb971fc473c9104a27975242a36f8e9183742c",
    "papermill": {
     "duration": 0.010635,
     "end_time": "2023-06-19T10:05:44.000785",
     "exception": false,
     "start_time": "2023-06-19T10:05:43.990150",
     "status": "completed"
    },
    "tags": []
   },
   "source": [
    "\n",
    "### Flattening\n",
    "During the flattening process, the spatial dimensions of the input volume are collapsed into a single dimension while preserving the total number of elements in the array. This operation is necessary because fully connected layers require a 1D input, while convolutional and pooling layers operate on 2D or 3D inputs.\n",
    "<br> <a href=\"https://imgbb.com/\"><img src=\"https://image.ibb.co/c7eVvU/flattenigng.jpg\" alt=\"flattenigng\" border=\"0\"></a>"
   ]
  },
  {
   "attachments": {},
   "cell_type": "markdown",
   "id": "aea63587",
   "metadata": {
    "_uuid": "f437407cf18fdfacf8626baa5e76ed5d64be1a11",
    "papermill": {
     "duration": 0.012798,
     "end_time": "2023-06-19T10:05:44.024477",
     "exception": false,
     "start_time": "2023-06-19T10:05:44.011679",
     "status": "completed"
    },
    "tags": []
   },
   "source": [
    "\n",
    "### Fully Connected Layer (FCC)\n",
    "The fully connected layer (FCC) is a type of layer in a neural network where each neuron is connected to every neuron in the previous layer. This means that the FCC receives input from all the neurons in the previous layer\n",
    "<br> <a href=\"https://ibb.co/hsS14p\"><img src=\"https://preview.ibb.co/evzsAU/fullyc.jpg\" alt=\"fullyc\" border=\"0\"></a>"
   ]
  },
  {
   "attachments": {},
   "cell_type": "markdown",
   "id": "045a12e8",
   "metadata": {
    "_uuid": "7b290eb3f3b111d6841f8e4093277be1bde05078",
    "papermill": {
     "duration": 0.010623,
     "end_time": "2023-06-19T10:05:44.046018",
     "exception": false,
     "start_time": "2023-06-19T10:05:44.035395",
     "status": "completed"
    },
    "tags": []
   },
   "source": [
    "\n",
    "# Implementing CNN Model"
   ]
  },
  {
   "cell_type": "code",
   "execution_count": 13,
   "id": "51b746f4",
   "metadata": {
    "_uuid": "c441d7b3852cee5d3636272d4da2f96b169f81ac",
    "execution": {
     "iopub.execute_input": "2023-06-19T10:05:44.070018Z",
     "iopub.status.busy": "2023-06-19T10:05:44.069393Z",
     "iopub.status.idle": "2023-06-19T10:05:46.791649Z",
     "shell.execute_reply": "2023-06-19T10:05:46.790681Z"
    },
    "papermill": {
     "duration": 2.736613,
     "end_time": "2023-06-19T10:05:46.794088",
     "exception": false,
     "start_time": "2023-06-19T10:05:44.057475",
     "status": "completed"
    },
    "tags": []
   },
   "outputs": [],
   "source": [
    "# \n",
    "from sklearn.metrics import confusion_matrix\n",
    "import itertools\n",
    "\n",
    "from keras.utils.np_utils import to_categorical # convert to one-hot-encoding\n",
    "from keras.models import Sequential\n",
    "from keras.layers import Dense, Dropout, Flatten, Conv2D, MaxPool2D\n",
    "from keras.optimizers import RMSprop,Adam\n",
    "from keras.preprocessing.image import ImageDataGenerator\n",
    "from keras.callbacks import ReduceLROnPlateau\n",
    "\n",
    "model = Sequential()\n",
    "\n",
    "model.add(Conv2D(filters = 8, kernel_size = (5,5),padding = 'same',  activation ='relu', input_shape = (28,28,1)))\n",
    "model.add(MaxPool2D(pool_size=(2,2)))\n",
    "model.add(Dropout(0.25))\n",
    "\n",
    "model.add(Conv2D(filters = 16, kernel_size = (3,3),padding = 'same', activation ='relu'))\n",
    "model.add(MaxPool2D(pool_size=(2,2), strides=(2,2)))\n",
    "model.add(Dropout(0.25))\n",
    "\n",
    "#FCC Part\n",
    "model.add(Flatten())\n",
    "model.add(Dense(256, activation = \"relu\"))\n",
    "model.add(Dropout(0.5))\n",
    "model.add(Dense(10, activation = \"softmax\"))"
   ]
  },
  {
   "attachments": {},
   "cell_type": "markdown",
   "id": "d00f73f5",
   "metadata": {
    "_uuid": "9a432df491777ca0019db6f6b972581f2c5bd9f9",
    "papermill": {
     "duration": 0.010729,
     "end_time": "2023-06-19T10:05:46.816409",
     "exception": false,
     "start_time": "2023-06-19T10:05:46.805680",
     "status": "completed"
    },
    "tags": []
   },
   "source": [
    "\n",
    "# Defining Optimizer & The Loss function   \n",
    "We would be using Adam's Optimizer & Cateogorical Cross entropy loss function\n"
   ]
  },
  {
   "attachments": {},
   "cell_type": "markdown",
   "id": "11f92a64",
   "metadata": {
    "papermill": {
     "duration": 0.010648,
     "end_time": "2023-06-19T10:05:46.837941",
     "exception": false,
     "start_time": "2023-06-19T10:05:46.827293",
     "status": "completed"
    },
    "tags": []
   },
   "source": [
    "Adam optimizer is an algorithm that dynamically adjusts the learning rate for each parameter in a neural network based on the estimates of the gradients. It helps improve the training process by efficiently updating the network parameters. While categorical crossentropy loss function is a loss function used to assess the accuracy of a machine learning model when dealing with multiple classes or categories. It quantifies how well the model's predicted probabilities align with the actual true labels."
   ]
  },
  {
   "cell_type": "code",
   "execution_count": 14,
   "id": "8b1e3e56",
   "metadata": {
    "_uuid": "607a02b42636e3115a1ac7a8edcadf61cf5ea1b0",
    "execution": {
     "iopub.execute_input": "2023-06-19T10:05:46.861054Z",
     "iopub.status.busy": "2023-06-19T10:05:46.860742Z",
     "iopub.status.idle": "2023-06-19T10:05:46.876643Z",
     "shell.execute_reply": "2023-06-19T10:05:46.875609Z"
    },
    "papermill": {
     "duration": 0.029803,
     "end_time": "2023-06-19T10:05:46.878737",
     "exception": false,
     "start_time": "2023-06-19T10:05:46.848934",
     "status": "completed"
    },
    "tags": []
   },
   "outputs": [
    {
     "name": "stderr",
     "output_type": "stream",
     "text": [
      "/opt/conda/lib/python3.10/site-packages/keras/optimizers/legacy/adam.py:117: UserWarning: The `lr` argument is deprecated, use `learning_rate` instead.\n",
      "  super().__init__(name, **kwargs)\n"
     ]
    }
   ],
   "source": [
    "# Define the optimizer\n",
    "optimizer = Adam(lr=0.001, beta_1=0.9, beta_2=0.999)\n",
    "#Now we compile the model\n",
    "\n",
    "model.compile(optimizer = optimizer , loss = \"categorical_crossentropy\", metrics=[\"accuracy\"])"
   ]
  },
  {
   "attachments": {},
   "cell_type": "markdown",
   "id": "fb2f4648",
   "metadata": {
    "_uuid": "91bf542a979c5b191c534876186bf31e70ec7f06",
    "papermill": {
     "duration": 0.016395,
     "end_time": "2023-06-19T10:05:46.906075",
     "exception": false,
     "start_time": "2023-06-19T10:05:46.889680",
     "status": "completed"
    },
    "tags": []
   },
   "source": [
    "<a id=\"13\"></a>\n",
    "\n"
   ]
  },
  {
   "attachments": {},
   "cell_type": "markdown",
   "id": "d3744e1d",
   "metadata": {
    "_uuid": "d5d8fea4cbb9b53cf1bb5089357a33dc179ee981",
    "papermill": {
     "duration": 0.010697,
     "end_time": "2023-06-19T10:05:46.929145",
     "exception": false,
     "start_time": "2023-06-19T10:05:46.918448",
     "status": "completed"
    },
    "tags": []
   },
   "source": [
    "<a id=\"14\"></a>\n",
    "### Epochs and Batch Size\n",
    " An epoch refers to a complete iteration or pass through the entire dataset during the training of a machine learning model,ie. in this process, the model makes predictions on each data point, calculates the error, and updates its internal parameters to improve its performance.\n",
    " \n"
   ]
  },
  {
   "cell_type": "code",
   "execution_count": 15,
   "id": "f89209ca",
   "metadata": {
    "execution": {
     "iopub.execute_input": "2023-06-19T10:05:46.952498Z",
     "iopub.status.busy": "2023-06-19T10:05:46.952169Z",
     "iopub.status.idle": "2023-06-19T10:05:46.956441Z",
     "shell.execute_reply": "2023-06-19T10:05:46.955504Z"
    },
    "papermill": {
     "duration": 0.018284,
     "end_time": "2023-06-19T10:05:46.958399",
     "exception": false,
     "start_time": "2023-06-19T10:05:46.940115",
     "status": "completed"
    },
    "tags": []
   },
   "outputs": [],
   "source": [
    "epochs=10"
   ]
  },
  {
   "attachments": {},
   "cell_type": "markdown",
   "id": "8e8a8ff5",
   "metadata": {
    "papermill": {
     "duration": 0.010725,
     "end_time": "2023-06-19T10:05:46.980015",
     "exception": false,
     "start_time": "2023-06-19T10:05:46.969290",
     "status": "completed"
    },
    "tags": []
   },
   "source": [
    "In machine learning, we often process data in batches rather than all at once. Batch size refers to the number of data points or examples we process together in each batch during training. Instead of updating the model after seeing every single example, which could be time-consuming, we update it after processing a batch of examples."
   ]
  },
  {
   "cell_type": "code",
   "execution_count": 16,
   "id": "525dbc79",
   "metadata": {
    "_uuid": "a237feb5e53ecbc8799101cb6e699877faafde77",
    "execution": {
     "iopub.execute_input": "2023-06-19T10:05:47.003460Z",
     "iopub.status.busy": "2023-06-19T10:05:47.002706Z",
     "iopub.status.idle": "2023-06-19T10:05:47.007050Z",
     "shell.execute_reply": "2023-06-19T10:05:47.006226Z"
    },
    "papermill": {
     "duration": 0.017839,
     "end_time": "2023-06-19T10:05:47.008814",
     "exception": false,
     "start_time": "2023-06-19T10:05:46.990975",
     "status": "completed"
    },
    "tags": []
   },
   "outputs": [],
   "source": [
    "batch_size = 32"
   ]
  },
  {
   "attachments": {},
   "cell_type": "markdown",
   "id": "588702ee",
   "metadata": {
    "_uuid": "e87c60e45759e0c52c2b72ee562fdb964c8008d5",
    "papermill": {
     "duration": 0.019433,
     "end_time": "2023-06-19T10:05:47.040964",
     "exception": false,
     "start_time": "2023-06-19T10:05:47.021531",
     "status": "completed"
    },
    "tags": []
   },
   "source": [
    "\n",
    "# Data Augmentation\n",
    "To address the issue of overfitting, it is important to increase the size of our handwritten digit dataset artificially. This can be achieved through a technique called data augmentation. Data augmentation involves applying small transformations to the training data in order to replicate the natural variations observed in handwritten digits<br>\n",
    "<a href=\"https://ibb.co/k24CUp\"><img src=\"https://preview.ibb.co/nMxXUp/augment.jpg\" alt=\"augment\" border=\"0\"></a>\n",
    "    \n"
   ]
  },
  {
   "cell_type": "code",
   "execution_count": 17,
   "id": "e6f61112",
   "metadata": {
    "_uuid": "c339fa7d06e9b73a519ca661bed19de482707d1f",
    "execution": {
     "iopub.execute_input": "2023-06-19T10:05:47.078517Z",
     "iopub.status.busy": "2023-06-19T10:05:47.078107Z",
     "iopub.status.idle": "2023-06-19T10:05:47.185485Z",
     "shell.execute_reply": "2023-06-19T10:05:47.184459Z"
    },
    "papermill": {
     "duration": 0.131214,
     "end_time": "2023-06-19T10:05:47.187932",
     "exception": false,
     "start_time": "2023-06-19T10:05:47.056718",
     "status": "completed"
    },
    "tags": []
   },
   "outputs": [],
   "source": [
    "# Data augmentation\n",
    "datagen = ImageDataGenerator(\n",
    "    featurewise_std_normalization=False,\n",
    "    samplewise_std_normalization=False,\n",
    "    zca_whitening=False,\n",
    "    rotation_range=5,\n",
    "    zoom_range=0.1,\n",
    "    width_shift_range=0.1,\n",
    "    height_shift_range=0.1,\n",
    "    horizontal_flip=False,\n",
    "    vertical_flip=False\n",
    ")\n",
    "\n",
    "datagen.fit(X_train)\n"
   ]
  },
  {
   "attachments": {},
   "cell_type": "markdown",
   "id": "c5766622",
   "metadata": {
    "_uuid": "e42e43f1b3b9e6da0d99dafff8f4a4b514a07f4c",
    "papermill": {
     "duration": 0.010855,
     "end_time": "2023-06-19T10:05:47.210297",
     "exception": false,
     "start_time": "2023-06-19T10:05:47.199442",
     "status": "completed"
    },
    "tags": []
   },
   "source": [
    "# Fitting The Model\n",
    "When we talk about \"fitting\" a neural network, we are referring to the process of training the network on a given dataset. It involves iteratively adjusting the network's parameters (weights and biases) based on the input data and corresponding target values."
   ]
  },
  {
   "cell_type": "code",
   "execution_count": 18,
   "id": "6f2ca88b",
   "metadata": {
    "_uuid": "4b2957bb8976a25cdbbbdc3110d68c5035a9773c",
    "execution": {
     "iopub.execute_input": "2023-06-19T10:05:47.237983Z",
     "iopub.status.busy": "2023-06-19T10:05:47.237074Z",
     "iopub.status.idle": "2023-06-19T10:08:28.684758Z",
     "shell.execute_reply": "2023-06-19T10:08:28.683704Z"
    },
    "papermill": {
     "duration": 161.465499,
     "end_time": "2023-06-19T10:08:28.686909",
     "exception": false,
     "start_time": "2023-06-19T10:05:47.221410",
     "status": "completed"
    },
    "tags": []
   },
   "outputs": [
    {
     "name": "stdout",
     "output_type": "stream",
     "text": [
      "Epoch 1/10\n"
     ]
    },
    {
     "name": "stderr",
     "output_type": "stream",
     "text": [
      "/tmp/ipykernel_23/3499739534.py:1: UserWarning: `Model.fit_generator` is deprecated and will be removed in a future version. Please use `Model.fit`, which supports generators.\n",
      "  history = model.fit_generator(datagen.flow(X_train,Y_train, batch_size=batch_size), epochs = epochs, validation_data = (X_test,Y_test))\n",
      "2023-06-19 10:05:47.980799: E tensorflow/core/grappler/optimizers/meta_optimizer.cc:954] layout failed: INVALID_ARGUMENT: Size of values 0 does not match size of permutation 4 @ fanin shape insequential/dropout/dropout/SelectV2-2-TransposeNHWCToNCHW-LayoutOptimizer\n"
     ]
    },
    {
     "name": "stdout",
     "output_type": "stream",
     "text": [
      "1182/1182 [==============================] - 21s 12ms/step - loss: 0.6788 - accuracy: 0.7745 - val_loss: 0.1188 - val_accuracy: 0.9671\n",
      "Epoch 2/10\n",
      "1182/1182 [==============================] - 15s 13ms/step - loss: 0.2785 - accuracy: 0.9129 - val_loss: 0.0863 - val_accuracy: 0.9740\n",
      "Epoch 3/10\n",
      "1182/1182 [==============================] - 15s 13ms/step - loss: 0.2209 - accuracy: 0.9309 - val_loss: 0.0644 - val_accuracy: 0.9795\n",
      "Epoch 4/10\n",
      "1182/1182 [==============================] - 15s 13ms/step - loss: 0.1893 - accuracy: 0.9421 - val_loss: 0.0566 - val_accuracy: 0.9843\n",
      "Epoch 5/10\n",
      "1182/1182 [==============================] - 15s 13ms/step - loss: 0.1758 - accuracy: 0.9457 - val_loss: 0.0558 - val_accuracy: 0.9826\n",
      "Epoch 6/10\n",
      "1182/1182 [==============================] - 15s 13ms/step - loss: 0.1571 - accuracy: 0.9525 - val_loss: 0.0456 - val_accuracy: 0.9857\n",
      "Epoch 7/10\n",
      "1182/1182 [==============================] - 15s 12ms/step - loss: 0.1499 - accuracy: 0.9547 - val_loss: 0.0466 - val_accuracy: 0.9871\n",
      "Epoch 8/10\n",
      "1182/1182 [==============================] - 15s 13ms/step - loss: 0.1413 - accuracy: 0.9571 - val_loss: 0.0426 - val_accuracy: 0.9876\n",
      "Epoch 9/10\n",
      "1182/1182 [==============================] - 14s 12ms/step - loss: 0.1365 - accuracy: 0.9582 - val_loss: 0.0424 - val_accuracy: 0.9876\n",
      "Epoch 10/10\n",
      "1182/1182 [==============================] - 16s 13ms/step - loss: 0.1304 - accuracy: 0.9594 - val_loss: 0.0428 - val_accuracy: 0.9869\n"
     ]
    }
   ],
   "source": [
    "history = model.fit_generator(datagen.flow(X_train,Y_train, batch_size=batch_size), epochs = epochs, validation_data = (X_test,Y_test))"
   ]
  },
  {
   "attachments": {},
   "cell_type": "markdown",
   "id": "a249d999",
   "metadata": {
    "_uuid": "debd5424728e11aa30a8513ac7b4f7377193a2da",
    "papermill": {
     "duration": 0.199056,
     "end_time": "2023-06-19T10:08:29.087945",
     "exception": false,
     "start_time": "2023-06-19T10:08:28.888889",
     "status": "completed"
    },
    "tags": []
   },
   "source": [
    "\n",
    "# Evaluate model performance\n",
    "We would visualizing the loss on the validation set as a function of number of epochs.\n",
    "We will also plot a few sample predictions"
   ]
  },
  {
   "cell_type": "code",
   "execution_count": 19,
   "id": "53475a06",
   "metadata": {
    "_uuid": "180a06f7ae01e69117c6c8258411cfe1b9b7b991",
    "execution": {
     "iopub.execute_input": "2023-06-19T10:08:29.492934Z",
     "iopub.status.busy": "2023-06-19T10:08:29.492553Z",
     "iopub.status.idle": "2023-06-19T10:08:29.779399Z",
     "shell.execute_reply": "2023-06-19T10:08:29.778492Z"
    },
    "papermill": {
     "duration": 0.492155,
     "end_time": "2023-06-19T10:08:29.781431",
     "exception": false,
     "start_time": "2023-06-19T10:08:29.289276",
     "status": "completed"
    },
    "tags": []
   },
   "outputs": [
    {
     "data": {
      "image/png": "[encoded data removed]",
      "text/plain": [
       "<Figure size 640x480 with 1 Axes>"
      ]
     },
     "metadata": {},
     "output_type": "display_data"
    }
   ],
   "source": [
    "\n",
    "plt.plot(history.history['val_loss'], label=\"validation loss\")\n",
    "plt.title(\"Test Loss\")\n",
    "plt.xlabel(\"Number of Epochs\")\n",
    "plt.ylabel(\"Loss\")\n",
    "plt.legend()\n",
    "plt.show()"
   ]
  },
  {
   "attachments": {},
   "cell_type": "markdown",
   "id": "cfc2fc76",
   "metadata": {
    "papermill": {
     "duration": 0.200253,
     "end_time": "2023-06-19T10:08:30.231345",
     "exception": false,
     "start_time": "2023-06-19T10:08:30.031092",
     "status": "completed"
    },
    "tags": []
   },
   "source": [
    "Now plotting a few sample predictions"
   ]
  },
  {
   "cell_type": "code",
   "execution_count": 20,
   "id": "aeb3ec6d",
   "metadata": {
    "execution": {
     "iopub.execute_input": "2023-06-19T10:08:30.632601Z",
     "iopub.status.busy": "2023-06-19T10:08:30.632231Z",
     "iopub.status.idle": "2023-06-19T10:08:31.040621Z",
     "shell.execute_reply": "2023-06-19T10:08:31.039570Z"
    },
    "papermill": {
     "duration": 0.613518,
     "end_time": "2023-06-19T10:08:31.044173",
     "exception": false,
     "start_time": "2023-06-19T10:08:30.430655",
     "status": "completed"
    },
    "tags": []
   },
   "outputs": [
    {
     "data": {
      "image/png": "[encoded data removed]",
      "text/plain": [
       "<Figure size 600x600 with 9 Axes>"
      ]
     },
     "metadata": {},
     "output_type": "display_data"
    }
   ],
   "source": [
    "_,ax = plt.subplots(3,3,figsize=(6,6))\n",
    "for i, image in enumerate(X_test):\n",
    "\n",
    "    image = np.expand_dims(image,0)\n",
    "    output = model(image)\n",
    "    \n",
    "    pred = np.argmax(output, axis=1, keepdims=True)\n",
    "    \n",
    "    ax[i//3][i%3].imshow(image.squeeze())\n",
    "    ax[i//3][i%3].axis('off')\n",
    "    ax[i//3][i%3].set_title(f\"Prediction: {pred[0][0]}\",y=-0.3)\n",
    "    if(i==8): break\n",
    "plt.subplots_adjust(hspace=0.5)\n",
    "plt.show()"
   ]
  },
  {
   "attachments": {},
   "cell_type": "markdown",
   "id": "c3bb4622",
   "metadata": {
    "papermill": {
     "duration": 0.200981,
     "end_time": "2023-06-19T10:08:31.465702",
     "exception": false,
     "start_time": "2023-06-19T10:08:31.264721",
     "status": "completed"
    },
    "tags": []
   },
   "source": [
    "<hr>"
   ]
  },
  {
   "cell_type": "code",
   "execution_count": null,
   "id": "312cfc2a",
   "metadata": {
    "papermill": {
     "duration": 0.200456,
     "end_time": "2023-06-19T10:08:31.867385",
     "exception": false,
     "start_time": "2023-06-19T10:08:31.666929",
     "status": "completed"
    },
    "tags": []
   },
   "outputs": [],
   "source": []
  }
 ],
 "metadata": {
  "kernelspec": {
   "display_name": "Python 3",
   "language": "python",
   "name": "python3"
  },
  "language_info": {
   "codemirror_mode": {
    "name": "ipython",
    "version": 3
   },
   "file_extension": ".py",
   "mimetype": "text/x-python",
   "name": "python",
   "nbconvert_exporter": "python",
   "pygments_lexer": "ipython3",
   "version": "3.10.8"
  },
  "papermill": {
   "default_parameters": {},
   "duration": 196.836751,
   "end_time": "2023-06-19T10:08:35.666684",
   "environment_variables": {},
   "exception": null,
   "input_path": "__notebook__.ipynb",
   "output_path": "__notebook__.ipynb",
   "parameters": {},
   "start_time": "2023-06-19T10:05:18.829933",
   "version": "2.4.0"
  }
 },
 "nbformat": 4,
 "nbformat_minor": 5
}
